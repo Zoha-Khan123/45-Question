{
  "nbformat": 4,
  "nbformat_minor": 0,
  "metadata": {
    "colab": {
      "provenance": [],
      "authorship_tag": "ABX9TyOaCyCCM639sjbOrJB1dj21",
      "include_colab_link": true
    },
    "kernelspec": {
      "name": "python3",
      "display_name": "Python 3"
    },
    "language_info": {
      "name": "python"
    }
  },
  "cells": [
    {
      "cell_type": "markdown",
      "metadata": {
        "id": "view-in-github",
        "colab_type": "text"
      },
      "source": [
        "<a href=\"https://colab.research.google.com/github/Zoha-Khan123/45-Question/blob/main/dictionary-method(get)or(defaultdict).ipynb\" target=\"_parent\"><img src=\"https://colab.research.google.com/assets/colab-badge.svg\" alt=\"Open In Colab\"/></a>"
      ]
    },
    {
      "cell_type": "markdown",
      "source": [
        "## **\"Python Mein Dictionary Ko Asaan Banane Ke Do Tareeke: get() Aur defaultdict\"**\n",
        "\n",
        "**Definition:**\n",
        "\n",
        "**get():** Yeh normal dictionary ka ek method hai jo key ki value deta hai. Agar key nahi hoti, toh aap ek default value set kar sakte hain taake KeyError na aaye. Yeh dictionary mein nayi key add nahi karta, bas value deta hai.\n",
        "\n",
        "**defaultdict:** Yeh collections module se aata hai aur ek special dictionary hai. Agar key nahi hoti, toh yeh khud se default value bana deta hai (jaise 0 ya empty list) aur us key ko dictionary mein add kar deta hai, taake aap direct kaam shuru kar sako."
      ],
      "metadata": {
        "id": "ur1qZ8bRoYtE"
      }
    },
    {
      "cell_type": "markdown",
      "source": [
        "**get()** ka use tab hota hai jab aapko sirf value check karni ho aur dictionary ko change nahi karna.\n",
        "\n",
        "Misal: dict.get(\"key\", \"default\")\n",
        "\n",
        "**defaultdict** ka use tab hota hai jab aapko nayi keys banani hon ya unpe kaam karna ho bina error ke.\n",
        "\n",
        "Misal: defaultdict(int) se har nayi key ka default 0 hota hai."
      ],
      "metadata": {
        "id": "0XjjUp9KouVa"
      }
    },
    {
      "cell_type": "markdown",
      "source": [
        "# **3 Examples get() Ke Saath**\n",
        "\n",
        "get() normal dictionary pe kaam karta hai aur default value deta hai, lekin dictionary mein changes nahi karta."
      ],
      "metadata": {
        "id": "0EM6NDzxgUeD"
      }
    },
    {
      "cell_type": "markdown",
      "source": [
        "# Example 1: Simple Value Check"
      ],
      "metadata": {
        "id": "MSqGMTstggPa"
      }
    },
    {
      "cell_type": "code",
      "source": [
        "mera_dict = {\"name\": \"Zoha\", \"age\": 20, \"city\": \"Karachi\"}\n",
        "print(mera_dict.get(\"name\"))        # Output: Zoha (key hai)\n",
        "print(mera_dict.get(\"address\", \"N/A\"))  # Output: N/A (key nahi, default N/A)\n",
        "print(mera_dict)"
      ],
      "metadata": {
        "colab": {
          "base_uri": "https://localhost:8080/"
        },
        "id": "Dy19Nvglg25t",
        "outputId": "2f472194-bd84-4903-9781-4381109a65ea"
      },
      "execution_count": 20,
      "outputs": [
        {
          "output_type": "stream",
          "name": "stdout",
          "text": [
            "Zoha\n",
            "N/A\n",
            "{'name': 'Zoha', 'age': 20, 'city': 'Karachi'}\n"
          ]
        }
      ]
    },
    {
      "cell_type": "markdown",
      "source": [
        "Farq: \"address\" key nahi thi, default \"N/A\" mila, lekin dictionary mein kuch add nahi hua."
      ],
      "metadata": {
        "id": "_QwFCZmThIit"
      }
    },
    {
      "cell_type": "markdown",
      "source": [
        "# Example 2: Counting (Manual)"
      ],
      "metadata": {
        "id": "9RuJzfVrhuRi"
      }
    },
    {
      "cell_type": "code",
      "source": [
        "mera_dict = {\"name\": \"Zoha\", \"age\": 20, \"city\": \"Karachi\"}\n",
        "count = mera_dict.get(\"visits\", 0) + 1  # Default 0 liya aur 1 add kiya\n",
        "mera_dict[\"visits\"] = count            # Manually set karna pada\n",
        "print(mera_dict)                       # Output: {'name': 'Zoha', 'age': 20, 'city': 'Karachi', 'visits': 1}"
      ],
      "metadata": {
        "colab": {
          "base_uri": "https://localhost:8080/"
        },
        "id": "4QAzq5FRiA-D",
        "outputId": "f202bd03-8d31-437c-b520-13766b3812cf"
      },
      "execution_count": 21,
      "outputs": [
        {
          "output_type": "stream",
          "name": "stdout",
          "text": [
            "{'name': 'Zoha', 'age': 20, 'city': 'Karachi', 'visits': 1}\n"
          ]
        }
      ]
    },
    {
      "cell_type": "markdown",
      "source": [
        "Farq: get() ne sirf value di, lekin \"visits\" key add karne ke liye alag step chahiye."
      ],
      "metadata": {
        "id": "F4kcxYyzicGD"
      }
    },
    {
      "cell_type": "markdown",
      "source": [
        "# Example 3: Multiple Checks"
      ],
      "metadata": {
        "id": "1irBo8HQie1D"
      }
    },
    {
      "cell_type": "code",
      "source": [
        "mera_dict = {\"name\": \"Zoha\", \"age\": 20, \"city\": \"Karachi\"}\n",
        "print(mera_dict.get(\"age\", 0))       # Output: 20\n",
        "print(mera_dict.get(\"grade\", \"F\"))   # Output: F (default)\n",
        "print(mera_dict.get(\"class\", \"None\")) # Output: None (default)\n",
        "print(mera_dict)                     # Output: {'name': 'Zoha', 'age': 20, 'city': 'Karachi'}"
      ],
      "metadata": {
        "colab": {
          "base_uri": "https://localhost:8080/"
        },
        "id": "MIZ40fjBijWz",
        "outputId": "6c6c18f8-a45a-4c4b-9004-54b33c1f7887"
      },
      "execution_count": 6,
      "outputs": [
        {
          "output_type": "stream",
          "name": "stdout",
          "text": [
            "20\n",
            "F\n",
            "None\n",
            "{'name': 'Zoha', 'age': 20, 'city': 'Karachi'}\n"
          ]
        }
      ]
    },
    {
      "cell_type": "markdown",
      "source": [
        "# **5 Examples defaultdict Ke Saath**"
      ],
      "metadata": {
        "id": "fREDgbi5jTWN"
      }
    },
    {
      "cell_type": "markdown",
      "source": [
        "Ab wahi normal dictionary ko defaultdict mein convert karte hain aur dekhte hain."
      ],
      "metadata": {
        "id": "1JsfdnGZjdBT"
      }
    },
    {
      "cell_type": "markdown",
      "source": [
        "# Example 1: Normal Dict Ko defaultdict Mein"
      ],
      "metadata": {
        "id": "ilFdrQmZjm07"
      }
    },
    {
      "cell_type": "code",
      "source": [
        "from collections import defaultdict\n",
        "\n",
        "mera_dict = {\"name\": \"Zoha\", \"age\": 20, \"city\": \"Karachi\"}\n",
        "dictionary = defaultdict(int, mera_dict)  # Normal dict ko defaultdict mein dala\n",
        "print(dictionary[\"name\"])    # Output: Zoha\n",
        "print(dictionary[\"school\"])  # Output: 0 (default value)\n",
        "print(dictionary)             # Output: defaultdict(<class 'int'>, {'name': 'Zoha', 'age': 20, 'city': 'Lahore', 'school': 0})\n",
        "print(dict(dictionary))          # Output: {'name': 'Zoha', 'age': 20, 'city': 'Lahore', 'school': 0}\n"
      ],
      "metadata": {
        "colab": {
          "base_uri": "https://localhost:8080/"
        },
        "id": "OLwmdwKQjr6z",
        "outputId": "cfea48df-ac53-471c-d601-38272d8b268f"
      },
      "execution_count": 29,
      "outputs": [
        {
          "output_type": "stream",
          "name": "stdout",
          "text": [
            "Zoha\n",
            "0\n",
            "defaultdict(<class 'int'>, {'name': 'Zoha', 'age': 20, 'city': 'Karachi', 'school': 0})\n",
            "{'name': 'Zoha', 'age': 20, 'city': 'Karachi', 'school': 0}\n"
          ]
        }
      ]
    },
    {
      "cell_type": "markdown",
      "source": [
        "# Example 2: Counting Direct"
      ],
      "metadata": {
        "id": "SbEXHaM6kZXD"
      }
    },
    {
      "cell_type": "code",
      "source": [
        "from collections import defaultdict\n",
        "\n",
        "mera_dict = {\"name\": \"Zoha\", \"age\": 20, \"city\": \"Karachi\"}\n",
        "dictionary = defaultdict(int, mera_dict)\n",
        "dictionary[\"visits\"] += 1   # Direct increment\n",
        "print(dict(dictionary))         # Output: defaultdict(<class 'int'>, {'name': 'Zoha', 'age': 20, 'city': 'Karachi', 'visits': 1})"
      ],
      "metadata": {
        "colab": {
          "base_uri": "https://localhost:8080/"
        },
        "id": "IcstrAuPkkD0",
        "outputId": "f37434ad-791d-406a-e2c8-279aac391692"
      },
      "execution_count": 25,
      "outputs": [
        {
          "output_type": "stream",
          "name": "stdout",
          "text": [
            "{'name': 'Zoha', 'age': 20, 'city': 'Karachi', 'visits': 0}\n"
          ]
        }
      ]
    },
    {
      "cell_type": "markdown",
      "source": [
        "Farq: defaultdict ne \"visits\" ko 0 se shuru kiya aur 1 add kar diya, bina manual step ke."
      ],
      "metadata": {
        "id": "M-5TIwbrksHc"
      }
    },
    {
      "cell_type": "markdown",
      "source": [
        "# Example 5: Looping Mein Use"
      ],
      "metadata": {
        "id": "l1AwAf-sk75D"
      }
    },
    {
      "cell_type": "code",
      "source": [
        "from collections import defaultdict\n",
        "\n",
        "mera_dict = {\"name\": \"Zoha\", \"age\": 20, \"city\": \"Karachi\"}\n",
        "dictionary = defaultdict(int, mera_dict)\n",
        "keys = [\"name\", \"age\", \"score\"]\n",
        "for key in keys:\n",
        "    if isinstance(dictionary[key], int):  # Agar value integer hai\n",
        "        dictionary[key] += 1\n",
        "print(dict(dictionary))\n",
        "# Output: defaultdict(<class 'int'>, {'name': 'Zoha', 'age': 21, 'city': 'Karachi', 'score': 1})"
      ],
      "metadata": {
        "colab": {
          "base_uri": "https://localhost:8080/"
        },
        "id": "sdov1QIPk_Xk",
        "outputId": "d2d18c7b-4281-4779-f32c-0f79f7fa7576"
      },
      "execution_count": 18,
      "outputs": [
        {
          "output_type": "stream",
          "name": "stdout",
          "text": [
            "{'name': 'Zoha', 'age': 21, 'city': 'Karachi', 'score': 1}\n"
          ]
        }
      ]
    },
    {
      "cell_type": "markdown",
      "source": [
        "\n",
        "\"name\" skip hua kyunke \"Zoha\" string hai.\n",
        "\n",
        "\"age\" 20 se 21 hua.\n",
        "\n",
        "\"score\" 0 se 1 hua.\n"
      ],
      "metadata": {
        "id": "P_48lcbBm0cL"
      }
    },
    {
      "cell_type": "markdown",
      "source": [
        "Main Farq\n",
        "\n",
        "\n",
        "\n",
        "\n",
        "**get():**\n",
        "\n",
        "Sirf value deta hai, dictionary mein kuch add nahi karta.\n",
        "\n",
        "Har baar default value manually use karni padti hai.\n",
        "\n",
        "Modify karne ke liye extra steps chahiye.\n",
        "\n",
        "\n",
        "\n",
        "\n",
        "**defaultdict:**\n",
        "\n",
        "Nayi key khud add ho jati hai default value ke saath.\n",
        "\n",
        "Direct modify kar sakte ho (jaise +=, append).\n",
        "\n",
        "Kaam tez aur code chota hota hai.italicised text"
      ],
      "metadata": {
        "id": "OSJsGxKxlRm8"
      }
    }
  ]
}